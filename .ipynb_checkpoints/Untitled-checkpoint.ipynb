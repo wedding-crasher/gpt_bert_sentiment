{
 "cells": [
  {
   "cell_type": "code",
   "execution_count": null,
   "id": "18aaffac",
   "metadata": {},
   "outputs": [],
   "source": [
    "import transformers \n",
    "from transformers import pipeline, GPT2Tokenizer\n",
    "import torch \n",
    "from torch.utils.data import Dataset, DataLoader\n",
    "import os"
   ]
  },
  {
   "cell_type": "code",
   "execution_count": 36,
   "id": "a0eab043",
   "metadata": {},
   "outputs": [],
   "source": [
    "model = pipeline(model=\"heegyu/gpt2-emotion\")"
   ]
  },
  {
   "cell_type": "code",
   "execution_count": 37,
   "id": "6c39eeed",
   "metadata": {},
   "outputs": [],
   "source": [
    "tokenizer = GPT2Tokenizer.from_pretrained('heegyu/gpt2-emotion')"
   ]
  },
  {
   "cell_type": "code",
   "execution_count": 38,
   "id": "2535ad96",
   "metadata": {},
   "outputs": [],
   "source": [
    "class movRevDataSet(Dataset):\n",
    "    def __init__(self,root_dir,transform = None):\n",
    "        self.root_dir = root_dir \n",
    "        self.transform = transform\n",
    "        self.file_list = os.listdir(root_dir)\n",
    "    def __len__(self):\n",
    "        return len(self.file_list)\n",
    "    def __getitem__(self, idx):\n",
    "        file_name = self.file_list[idx]\n",
    "        file_path = os.path.join(self.root_dir, file_name)\n",
    "        with open(file_path, 'r', encoding = 'utf-8') as file:\n",
    "            txt = file.read()\n",
    "        label = int(file_name.split('_')[1])\n",
    "        return txt, label"
   ]
  },
  {
   "cell_type": "code",
   "execution_count": 39,
   "id": "e5856664",
   "metadata": {},
   "outputs": [],
   "source": [
    "trainDataRoot = './aclImdb/train/merged'\n",
    "testDataRoot = './aclImdb/test/merged'"
   ]
  },
  {
   "cell_type": "code",
   "execution_count": 40,
   "id": "e6b761cc",
   "metadata": {},
   "outputs": [],
   "source": [
    "movRevTrainDS = movRevDataSet(root_dir=trainDataRoot)\n",
    "movRevTrainDS, movRevValDS = torch.utils.data.random_split(movRevTrainDS,[0.8,0.2])\n",
    "movRevTestDS = movRevDataSet(root_dir= testDataRoot)"
   ]
  },
  {
   "cell_type": "code",
   "execution_count": 41,
   "id": "bb4abb22",
   "metadata": {},
   "outputs": [],
   "source": [
    "movRevTrainDL= DataLoader(movRevTrainDS, batch_size = 32, shuffle= True, num_workers = 2)\n",
    "movRevValDL = DataLoader(movRevValDS, batch_size =32, shuffle = True, num_workers = 2)\n",
    "movRevTestDL = DataLoader(movRevTestDS, batch_size = 32,  num_workers = 2)"
   ]
  },
  {
   "cell_type": "code",
   "execution_count": null,
   "id": "dbe60aea",
   "metadata": {},
   "outputs": [
    {
     "name": "stderr",
     "output_type": "stream",
     "text": [
      "Traceback (most recent call last):\n",
      "  File \"<string>\", line 1, in <module>\n",
      "  File \"/Users/bridgeon/miniconda3/envs/gptenv/lib/python3.11/multiprocessing/spawn.py\", line 122, in spawn_main\n",
      "    exitcode = _main(fd, parent_sentinel)\n",
      "               ^^^^^^^^^^^^^^^^^^^^^^^^^^\n",
      "  File \"/Users/bridgeon/miniconda3/envs/gptenv/lib/python3.11/multiprocessing/spawn.py\", line 132, in _main\n",
      "    self = reduction.pickle.load(from_parent)\n",
      "           ^^^^^^^^^^^^^^^^^^^^^^^^^^^^^^^^^^\n",
      "AttributeError: Can't get attribute 'movRevDataSet' on <module '__main__' (built-in)>\n"
     ]
    }
   ],
   "source": [
    "for i, (data,label) in enumerate(movRevTrainDL):\n",
    "    print(f\"Sample {i+1}:\")\n",
    "    print(\"Data:\",data)\n",
    "    print(\"Label:\", label)\n",
    "    if i == 4:\n",
    "        break"
   ]
  },
  {
   "cell_type": "code",
   "execution_count": null,
   "id": "59a0fe66",
   "metadata": {},
   "outputs": [],
   "source": []
  }
 ],
 "metadata": {
  "kernelspec": {
   "display_name": "Python (gptenv)",
   "language": "python",
   "name": "gptenv"
  },
  "language_info": {
   "codemirror_mode": {
    "name": "ipython",
    "version": 3
   },
   "file_extension": ".py",
   "mimetype": "text/x-python",
   "name": "python",
   "nbconvert_exporter": "python",
   "pygments_lexer": "ipython3",
   "version": "3.11.9"
  }
 },
 "nbformat": 4,
 "nbformat_minor": 5
}
