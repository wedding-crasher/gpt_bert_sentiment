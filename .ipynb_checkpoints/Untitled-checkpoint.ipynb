{
 "cells": [
  {
   "cell_type": "code",
   "execution_count": 40,
   "id": "18aaffac",
   "metadata": {},
   "outputs": [],
   "source": [
    "import transformers \n",
    "from transformers import pipeline, GPT2Tokenizer\n",
    "import torch \n",
    "from torch.utils.data import Dataset, DataLoader\n",
    "import os"
   ]
  },
  {
   "cell_type": "code",
   "execution_count": 41,
   "id": "a0eab043",
   "metadata": {},
   "outputs": [],
   "source": [
    "model = pipeline(model=\"heegyu/gpt2-emotion\")"
   ]
  },
  {
   "cell_type": "code",
   "execution_count": 42,
   "id": "6c39eeed",
   "metadata": {},
   "outputs": [],
   "source": [
    "tokenizer = GPT2Tokenizer.from_pretrained('heegyu/gpt2-emotion')"
   ]
  },
  {
   "cell_type": "code",
   "execution_count": 43,
   "id": "2535ad96",
   "metadata": {},
   "outputs": [],
   "source": [
    "class movRevDataSet(Dataset):\n",
    "    def __init__(self,root_dir,transform = None):\n",
    "        self.root_dir = root_dir \n",
    "        self.transform = transform\n",
    "        self.file_list = os.listdir(root_dir)\n",
    "    def __len__(self):\n",
    "        return len(self.file_list)\n",
    "    def __getitem__(self, idx):\n",
    "        file_name = self.file_list[idx]\n",
    "        file_path = os.path.join(self.root_dir, file_name)\n",
    "        with open(file_path, 'r', encoding = 'utf-8') as file:\n",
    "            txt = file.read()\n",
    "        label = int(file_name.split('_')[1])\n",
    "        return txt, label"
   ]
  },
  {
   "cell_type": "code",
   "execution_count": 44,
   "id": "e5856664",
   "metadata": {},
   "outputs": [],
   "source": [
    "trainDataRoot = './aclImdb/train/merge'\n",
    "testDataRoot = './aclImdb/test/merge'"
   ]
  },
  {
   "cell_type": "code",
   "execution_count": 45,
   "id": "e6b761cc",
   "metadata": {},
   "outputs": [
    {
     "ename": "FileNotFoundError",
     "evalue": "[Errno 2] No such file or directory: './aclImdb/train/merge'",
     "output_type": "error",
     "traceback": [
      "\u001b[0;31m---------------------------------------------------------------------------\u001b[0m",
      "\u001b[0;31mFileNotFoundError\u001b[0m                         Traceback (most recent call last)",
      "Cell \u001b[0;32mIn[45], line 1\u001b[0m\n\u001b[0;32m----> 1\u001b[0m trainDataset \u001b[38;5;241m=\u001b[39m \u001b[43mmovRevDataSet\u001b[49m\u001b[43m(\u001b[49m\u001b[43mtrainDataRoot\u001b[49m\u001b[43m)\u001b[49m\n",
      "Cell \u001b[0;32mIn[43], line 5\u001b[0m, in \u001b[0;36mmovRevDataSet.__init__\u001b[0;34m(self, root_dir, transform)\u001b[0m\n\u001b[1;32m      3\u001b[0m \u001b[38;5;28mself\u001b[39m\u001b[38;5;241m.\u001b[39mroot_dir \u001b[38;5;241m=\u001b[39m root_dir \n\u001b[1;32m      4\u001b[0m \u001b[38;5;28mself\u001b[39m\u001b[38;5;241m.\u001b[39mtransform \u001b[38;5;241m=\u001b[39m transform\n\u001b[0;32m----> 5\u001b[0m \u001b[38;5;28mself\u001b[39m\u001b[38;5;241m.\u001b[39mfile_list \u001b[38;5;241m=\u001b[39m \u001b[43mos\u001b[49m\u001b[38;5;241;43m.\u001b[39;49m\u001b[43mlistdir\u001b[49m\u001b[43m(\u001b[49m\u001b[43mroot_dir\u001b[49m\u001b[43m)\u001b[49m\n",
      "\u001b[0;31mFileNotFoundError\u001b[0m: [Errno 2] No such file or directory: './aclImdb/train/merge'"
     ]
    }
   ],
   "source": []
  },
  {
   "cell_type": "code",
   "execution_count": null,
   "id": "bb4abb22",
   "metadata": {},
   "outputs": [],
   "source": []
  }
 ],
 "metadata": {
  "kernelspec": {
   "display_name": "Python (gptenv)",
   "language": "python",
   "name": "gptenv"
  },
  "language_info": {
   "codemirror_mode": {
    "name": "ipython",
    "version": 3
   },
   "file_extension": ".py",
   "mimetype": "text/x-python",
   "name": "python",
   "nbconvert_exporter": "python",
   "pygments_lexer": "ipython3",
   "version": "3.8.19"
  }
 },
 "nbformat": 4,
 "nbformat_minor": 5
}
