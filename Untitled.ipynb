{
 "cells": [
  {
   "cell_type": "code",
   "execution_count": 28,
   "id": "18aaffac",
   "metadata": {},
   "outputs": [],
   "source": [
    "import transformers \n",
    "from transformers import AutoModelForCausalLM, AutoTokenizer, Trainer, TrainingArguments,get_scheduler\n",
    "from torch import nn, optim \n",
    "from torch.utils.data import Dataset, DataLoader\n",
    "from torch.optim import AdamW\n",
    "from torch.optim.lr_scheduler import StepLR\n",
    "import os\n",
    "import torch\n",
    "from tqdm import tqdm\n",
    "from accelerate import Accelerator"
   ]
  },
  {
   "cell_type": "code",
   "execution_count": 29,
   "id": "8791f4a3-eb31-4885-9ab8-8270bf1b8237",
   "metadata": {},
   "outputs": [
    {
     "name": "stdout",
     "output_type": "stream",
     "text": [
      "[name: \"/device:CPU:0\"\n",
      "device_type: \"CPU\"\n",
      "memory_limit: 268435456\n",
      "locality {\n",
      "}\n",
      "incarnation: 3853229421763792648\n",
      "xla_global_id: -1\n",
      ", name: \"/device:GPU:0\"\n",
      "device_type: \"GPU\"\n",
      "memory_limit: 23334223872\n",
      "locality {\n",
      "  bus_id: 1\n",
      "  links {\n",
      "  }\n",
      "}\n",
      "incarnation: 13377093665715349205\n",
      "physical_device_desc: \"device: 0, name: NVIDIA GeForce RTX 4090, pci bus id: 0000:01:00.0, compute capability: 8.9\"\n",
      "xla_global_id: 416903419\n",
      ", name: \"/device:GPU:1\"\n",
      "device_type: \"GPU\"\n",
      "memory_limit: 23361880064\n",
      "locality {\n",
      "  bus_id: 1\n",
      "  links {\n",
      "  }\n",
      "}\n",
      "incarnation: 1993048878544987773\n",
      "physical_device_desc: \"device: 1, name: NVIDIA GeForce RTX 4090, pci bus id: 0000:02:00.0, compute capability: 8.9\"\n",
      "xla_global_id: 2144165316\n",
      "]\n"
     ]
    },
    {
     "name": "stderr",
     "output_type": "stream",
     "text": [
      "2024-05-24 23:51:20.426225: I external/local_xla/xla/stream_executor/cuda/cuda_executor.cc:998] successful NUMA node read from SysFS had negative value (-1), but there must be at least one NUMA node, so returning NUMA node zero. See more at https://github.com/torvalds/linux/blob/v6.0/Documentation/ABI/testing/sysfs-bus-pci#L344-L355\n",
      "2024-05-24 23:51:20.426692: I external/local_xla/xla/stream_executor/cuda/cuda_executor.cc:998] successful NUMA node read from SysFS had negative value (-1), but there must be at least one NUMA node, so returning NUMA node zero. See more at https://github.com/torvalds/linux/blob/v6.0/Documentation/ABI/testing/sysfs-bus-pci#L344-L355\n",
      "2024-05-24 23:51:20.427056: I external/local_xla/xla/stream_executor/cuda/cuda_executor.cc:998] successful NUMA node read from SysFS had negative value (-1), but there must be at least one NUMA node, so returning NUMA node zero. See more at https://github.com/torvalds/linux/blob/v6.0/Documentation/ABI/testing/sysfs-bus-pci#L344-L355\n",
      "2024-05-24 23:51:20.427401: I external/local_xla/xla/stream_executor/cuda/cuda_executor.cc:998] successful NUMA node read from SysFS had negative value (-1), but there must be at least one NUMA node, so returning NUMA node zero. See more at https://github.com/torvalds/linux/blob/v6.0/Documentation/ABI/testing/sysfs-bus-pci#L344-L355\n",
      "2024-05-24 23:51:20.427743: I external/local_xla/xla/stream_executor/cuda/cuda_executor.cc:998] successful NUMA node read from SysFS had negative value (-1), but there must be at least one NUMA node, so returning NUMA node zero. See more at https://github.com/torvalds/linux/blob/v6.0/Documentation/ABI/testing/sysfs-bus-pci#L344-L355\n",
      "2024-05-24 23:51:20.428081: I external/local_xla/xla/stream_executor/cuda/cuda_executor.cc:998] successful NUMA node read from SysFS had negative value (-1), but there must be at least one NUMA node, so returning NUMA node zero. See more at https://github.com/torvalds/linux/blob/v6.0/Documentation/ABI/testing/sysfs-bus-pci#L344-L355\n",
      "2024-05-24 23:51:20.428569: I external/local_xla/xla/stream_executor/cuda/cuda_executor.cc:998] successful NUMA node read from SysFS had negative value (-1), but there must be at least one NUMA node, so returning NUMA node zero. See more at https://github.com/torvalds/linux/blob/v6.0/Documentation/ABI/testing/sysfs-bus-pci#L344-L355\n",
      "2024-05-24 23:51:20.428924: I external/local_xla/xla/stream_executor/cuda/cuda_executor.cc:998] successful NUMA node read from SysFS had negative value (-1), but there must be at least one NUMA node, so returning NUMA node zero. See more at https://github.com/torvalds/linux/blob/v6.0/Documentation/ABI/testing/sysfs-bus-pci#L344-L355\n",
      "2024-05-24 23:51:20.429279: I external/local_xla/xla/stream_executor/cuda/cuda_executor.cc:998] successful NUMA node read from SysFS had negative value (-1), but there must be at least one NUMA node, so returning NUMA node zero. See more at https://github.com/torvalds/linux/blob/v6.0/Documentation/ABI/testing/sysfs-bus-pci#L344-L355\n",
      "2024-05-24 23:51:20.429582: I tensorflow/core/common_runtime/gpu/gpu_device.cc:1928] Created device /device:GPU:0 with 22253 MB memory:  -> device: 0, name: NVIDIA GeForce RTX 4090, pci bus id: 0000:01:00.0, compute capability: 8.9\n",
      "2024-05-24 23:51:20.429669: I external/local_xla/xla/stream_executor/cuda/cuda_executor.cc:998] successful NUMA node read from SysFS had negative value (-1), but there must be at least one NUMA node, so returning NUMA node zero. See more at https://github.com/torvalds/linux/blob/v6.0/Documentation/ABI/testing/sysfs-bus-pci#L344-L355\n",
      "2024-05-24 23:51:20.429980: I tensorflow/core/common_runtime/gpu/gpu_device.cc:1928] Created device /device:GPU:1 with 22279 MB memory:  -> device: 1, name: NVIDIA GeForce RTX 4090, pci bus id: 0000:02:00.0, compute capability: 8.9\n"
     ]
    }
   ],
   "source": [
    "from tensorflow.python.client import device_lib\n",
    "print(device_lib.list_local_devices())"
   ]
  },
  {
   "cell_type": "code",
   "execution_count": 30,
   "id": "a0eab043",
   "metadata": {},
   "outputs": [],
   "source": [
    "model = AutoModelForCausalLM.from_pretrained(\"heegyu/gpt2-emotion\")"
   ]
  },
  {
   "cell_type": "code",
   "execution_count": 31,
   "id": "6c39eeed",
   "metadata": {},
   "outputs": [],
   "source": [
    "tokenizer = AutoTokenizer.from_pretrained('heegyu/gpt2-emotion')"
   ]
  },
  {
   "cell_type": "code",
   "execution_count": 32,
   "id": "2535ad96",
   "metadata": {},
   "outputs": [],
   "source": [
    "class movRevDataSet(Dataset):\n",
    "    def __init__(self,root_dir,transform = None):\n",
    "        self.root_dir = root_dir \n",
    "        self.transform = transform\n",
    "        self.file_list = os.listdir(root_dir)\n",
    "    def __len__(self):\n",
    "        return len(self.file_list)\n",
    "    def __getitem__(self, idx):\n",
    "        file_name = self.file_list[idx]\n",
    "        file_path = os.path.join(self.root_dir, file_name)\n",
    "        with open(file_path, 'r', encoding = 'utf-8') as file:\n",
    "            txt = file.read()\n",
    "#         label = int(file_name.split('_')[1].split('.')[0])\n",
    "        return txt"
   ]
  },
  {
   "cell_type": "code",
   "execution_count": 33,
   "id": "e5856664",
   "metadata": {},
   "outputs": [],
   "source": [
    "trainDataRoot = './aclImdb/train/merged'\n",
    "testDataRoot = './aclImdb/test/merged'"
   ]
  },
  {
   "cell_type": "code",
   "execution_count": 34,
   "id": "e6b761cc",
   "metadata": {},
   "outputs": [],
   "source": [
    "movRevTrainDS = movRevDataSet(root_dir=trainDataRoot)\n",
    "movRevTrainDS, movRevValDS = torch.utils.data.random_split(movRevTrainDS,[0.8,0.2])\n",
    "movRevTestDS = movRevDataSet(root_dir= testDataRoot)"
   ]
  },
  {
   "cell_type": "code",
   "execution_count": 35,
   "id": "bb4abb22",
   "metadata": {},
   "outputs": [],
   "source": [
    "movRevTrainDL= DataLoader(movRevTrainDS, batch_size = 2, shuffle= True, num_workers =8 )\n",
    "movRevValDL = DataLoader(movRevValDS, batch_size =2, shuffle = True,num_workers =8 )\n",
    "movRevTestDL = DataLoader(movRevTestDS, batch_size = 2, num_workers =8)"
   ]
  },
  {
   "cell_type": "code",
   "execution_count": 36,
   "id": "dbe60aea",
   "metadata": {},
   "outputs": [
    {
     "name": "stderr",
     "output_type": "stream",
     "text": [
      "huggingface/tokenizers: The current process just got forked, after parallelism has already been used. Disabling parallelism to avoid deadlocks...\n",
      "To disable this warning, you can either:\n",
      "\t- Avoid using `tokenizers` before the fork if possible\n",
      "\t- Explicitly set the environment variable TOKENIZERS_PARALLELISM=(true | false)\n",
      "huggingface/tokenizers: The current process just got forked, after parallelism has already been used. Disabling parallelism to avoid deadlocks...\n",
      "To disable this warning, you can either:\n",
      "\t- Avoid using `tokenizers` before the fork if possible\n",
      "\t- Explicitly set the environment variable TOKENIZERS_PARALLELISM=(true | false)\n",
      "huggingface/tokenizers: The current process just got forked, after parallelism has already been used. Disabling parallelism to avoid deadlocks...\n",
      "To disable this warning, you can either:\n",
      "\t- Avoid using `tokenizers` before the fork if possible\n",
      "\t- Explicitly set the environment variable TOKENIZERS_PARALLELISM=(true | false)\n",
      "huggingface/tokenizers: The current process just got forked, after parallelism has already been used. Disabling parallelism to avoid deadlocks...\n",
      "To disable this warning, you can either:\n",
      "\t- Avoid using `tokenizers` before the fork if possible\n",
      "\t- Explicitly set the environment variable TOKENIZERS_PARALLELISM=(true | false)\n",
      "huggingface/tokenizers: The current process just got forked, after parallelism has already been used. Disabling parallelism to avoid deadlocks...\n",
      "To disable this warning, you can either:\n",
      "\t- Avoid using `tokenizers` before the fork if possible\n",
      "\t- Explicitly set the environment variable TOKENIZERS_PARALLELISM=(true | false)\n",
      "huggingface/tokenizers: The current process just got forked, after parallelism has already been used. Disabling parallelism to avoid deadlocks...\n",
      "To disable this warning, you can either:\n",
      "\t- Avoid using `tokenizers` before the fork if possible\n",
      "\t- Explicitly set the environment variable TOKENIZERS_PARALLELISM=(true | false)\n",
      "huggingface/tokenizers: The current process just got forked, after parallelism has already been used. Disabling parallelism to avoid deadlocks...\n",
      "To disable this warning, you can either:\n",
      "\t- Avoid using `tokenizers` before the fork if possible\n",
      "\t- Explicitly set the environment variable TOKENIZERS_PARALLELISM=(true | false)\n",
      "huggingface/tokenizers: The current process just got forked, after parallelism has already been used. Disabling parallelism to avoid deadlocks...\n",
      "To disable this warning, you can either:\n",
      "\t- Avoid using `tokenizers` before the fork if possible\n",
      "\t- Explicitly set the environment variable TOKENIZERS_PARALLELISM=(true | false)\n"
     ]
    },
    {
     "name": "stdout",
     "output_type": "stream",
     "text": [
      "Sample 1:\n",
      "['We\\'ve all been there, sitting with some friends watching a bad movie, laughing at how terribly it was made and how poor the acting was; eventually the credits roll and everyone looks around and says \"how is it possible such a movie was made? who paid money to have this script made into a feature film?\" Well Jigsaw is not that kind of film, instead of asking how this garbage was budgeted you wonder why the makers were shot out of a cannon into the sun. Yes, Jigsaw is quite possibly the worst movie ever made or conceived, this coming from a guy who has seen Campfire Stories and Fever Lake. The film starts out in some kind of college class, what kind of class I am unsure, but it is imagined to be an art class. Now these dorks have been given a final project by their idiot teacher, five of them are given pieces of a mannequin and told to design it in any way they see fit, and since there are only five pieces the other students in the class receive and automatic A, oddly enough there are only six students in this entire class so the one goth chic gets a free A, good for her! A week passes and the five students, plus teacher, plus one hillbilly husband meet in a bar to discuss their and complete their project, they put the pieces together, head, arms, legs and inform the others why they chose their specifics designs, now these creative geniuses used the week to their full advantage, one puts a saw blade in the left hand, the other gets a sawed off shotgun, the right leg gets a bunch of broken ceramic glued to it and the left some magazine clippings, the head is the worst getting a camera in the eye, ala Hellraiser 3, with some bottle rockets for a stylish mo-hawk. After they have all spilled their guts about their specifics designs the now drunk teacher says they are to burn the mannequin, now aptly named Jigsaw. Now up to this point it has been standard horrible movie fair, bad acting, dialog and everything else, but has still been pretty plausible, yet after Jigsaw catches fire things take a turn for the worst...Jigsaw comes alive.. How you ask? I have no idea, he just does because the writers couldn\\'t think of a realistic way for two pounds worth of molded plastic to become alive (Come on guys, a bolt of lighting, a traveling voodoo priest, anything could have worked.) So once Jigsaw comes to life he uses his new abilities of walking very slow and stilted with the use of his molded fingers to wreak havoc. First he kills the cool guy with some barb wire, this guy who was about to get it on with a hot chic decides drinking ground beer off in the distance is more important than what is in front of him. With him gone Jigsaw shoots the sexy girl in the face and then gives an old man a heart attack with a slight twist of his head, he then saws up a nasty looking southern woman and then her hillbilly husband; Jigsaw then kills the nerdy guy with some headless deception. Did I mention Jigsaw was taking body parts off his victims to make a human version of himself? No! Well its not important they don\\'t even show his macabre creation, they don\\'t even show him steal away a torso from his poor creators (Maybe he was trying to create the head detective from In Living Color). So after these five have been killed the teacher and the nerdy girl are all who is left, the teacher figures out that Jigsaw only needs a head to finish his masterpiece, since he is still uninterested in that torso thing. So being the coward he is the teacher ties up the girl as a sacrifice to Jigsaw who comes in only to go for the teacher with his electric buzz saw which isn\\'t even plugged in. That is where the freaking movie ends, we don\\'t even get to see the teacher get killed or what happens to the girl, let alone an explanation why Jigsaw came to life or how he cleaned himself off after being burned. This movie is so shameful it has too be seen, it is only 71 minutes so it is a small part of your day; For the memories of a lifetime, Jigsaw, Jigsaw, Jigsaw. Thank you Total Recall! The Judge has ruled, watch Jigsaw only if your plans of severing off your genitals seems played out.', \"This is what happens when you're living in China and the local video store is running thin on English-language titles\\x97you are blessed with this work of what appears to be, yes, Romanian cinema. Nevertheless, I think that it has real comedic potential.<br /><br />Spoilers technically follow:<br /><br />Though I don't think that it would in fact spoil anyone's viewing pleasure to ask why a film set in a casino has a scene of beach archery, even in flashback. That mystery, and many other conundrums, remain to be exploited by desperate comedians, perhaps when they're stuck in Bucharest.<br /><br />Let me also wonder aloud why perfectly good-looking people allow themselves to abuse themselves on film like this. It's sad.\"]\n",
      "Sample 2:\n",
      "['I\\'ve seen a lot of movies and rarely would I ever rate a movie \"1\" but this movie was beyond terrible.<br /><br />The acting was terrible, the plot was ridiculous, the effects were unrealistic and the characters were annoying. Usually when I watch scary movies I think it\\'s DUMB when the characters hears a noise in house/forest/school/etc and then yells out \"hello is anyone there?\" - but at least they\\'re believable when they do it.. This movie couldn\\'t even get that right.<br /><br />This is a movie that\\'ll make other B-horror movies like Venom and The Fog look like academy award winning masterpieces.<br /><br />I always have an open mind while watching movies and I can only say that this movie was a complete waste of time and I write this comment so that anyone else who\\'s thinking of watching this movie will think again. IT\\'S AWFUL!', 'Encompassing virtual reality, the potential of computers, communication with the past, the ongoing struggle to express your identity in a constraining society, and the fascinating Ada Byron Lovelace portrayed by the fascinating Tilda Swinton, this film should have been great. But it is lousy, terrible if you consider the potential! The acting - aside from Tilda Swinton and Karen Black - veers from tolerable to atrocious. The plot construction is awkward to say the least - the modern day programmer is a dull one-note character, but half the movie is spent setting up her character, and then when Ada finally appears, it is to narrate the events of her life, not to present an engaging story (Swinton almost pulls this off, though). You never fully get to know her as a real person, just an icon from a grad student\\'s history paper.<br /><br />The digital effects, such as a digital dog and bird, are lousy and distracting, considering it was 1997 and not 1985. And, finally, the script is just bad. Bad, often pretentious dialog - especially the fights between the programmer and her boyfriend, which made me squirm - cold and distant characters, and zero attempt to create a sense of wonder. The programmer successfully contacts a person in the past! Astonishing! But it hardly seems to surprise anyone, and her boyfriend says, \"Well, be careful.\" (Although we\\'re given no clue then or later why it might be dangerous, and it never seems to actually be dangerous.)<br /><br />Also, despite being about computers and Ada Lovelace and her love of mathematics, it is clear no one involved with the script had any knowledge of mathematics OR computers - any references to these subjects come across as complete mumbo jumbo that defies any suspension of disbelief.<br /><br />One scene, towards the end of the movie, is quite good, a monolog by Tilda Swinton expressing her sadness at the fragility of life but her joy in that life. Poignant, passionate, and insightful, it seems to be dropped in from another movie.<br /><br />So I am disappointed in this movie, because it is a missed opportunity for a fascinating little cult film. If you find the subject matter interesting, you might want to rent it, but be forewarned. See Orlando for another, much much better examination of gender roles in history with a great Tilda Swinton performance.<br /><br />***spoiler/question: * *<br /><br />At the end of the movie, Ada asks that her memories not be preserved (in what I thought was the best scene in the movie). But then the modern day programmer seems to do it anyway, transferring the memories into her little girl (hence the title of the movie). Am I correct, that the programmer violated Ada\\'s wishes without even struggling over it? Or is this another confusing plot point that I\\'m misinterpreting?']\n",
      "Sample 3:\n",
      "[\"What a brilliant film. I will admit it is very ambitious, with the subject matter. At a little over two and a half hours, it is a very long film too. But neither of these pointers are flaws in any way. Cry Freedom, despite the minor flaws it may have, is a powerful, moving and compelling film about the story of the black activist Steve Biko in his struggles to awaken South Africa to the horrors of the apartheid. It is true, that the first half is stronger than the second in terms of emotional impact. People have also complained that the film suffers from too much Woods not enough Biko. I may be wrong, but although it is Biko's story, it is told in the perspective of Woods, so Woods is an important character in conveying Biko's story to the world.<br /><br />Cry Freedom visually looks amazing. With the show-stopping cinematography and the stunning South African scenery it was a visual feast. The opening scenes especially were brilliantly shot. George Fenton's music brought real dramatic weight to most scenes. It was subtle in scenes in the second half, but stirring and dramatic in the crowd scenes. The script was of exceptional quality, the courtroom scenes with Biko were enough to really make you think wow this is real quality stuff. The first half with Biko as the main focus constantly had something to feel emotional about, whether it was the police's attack of the South African citizens or Biko's death. The second half entirely about Donald Woods carries less of an emotional punch, but is compensated by how it is shot, performed and written. And there are parts that are genuinely suspenseful as well. <br /><br />The performances were exceptional from the entire cast, from the most minor character to the two leads, there wasn't a single bad performance. Regardless of the accents that is, but it is forgiven so easily by how much the performances draw you in. Denzel Washington in one of his more understated performances, gives a truly compelling performance as Biko, and Kevin Kline shows that he can be as good at drama as he is at comedy, for he gave a suitably subtle performance to match that of Washington's. And the two men's chemistry is believable and never strikes a false note. Penelope Wilton is lovely as Donald's wife Wendy, and she is a great actress anyway. Out the supporting performances, and there may be some bias, two stood out for me. One was Timothy West, who relishes his role as Captain DeWet. The other was the ever exceptional John Thaw in a brilliantly chilling cameo-role as Kruger. Lord Richard Attenborough's direction is focused and constantly sensitive as usual.<br /><br />Overall, a truly wonderful film. Ambitious and long it is, but never ceases to be compelling, powerful and achingly moving. A definite winner from Lord Richard Attenborough, and worthy of a lot more praise. 10/10 Bethany Cox\", 'Anyone notice that Tommy only has 3 facial expressions.<br /><br />1. The angry eyes look he gives every enemy. 2. The holding of the hands to face, mouth agape and frightened eyes. 3. The smiling Tommy Turnbull.<br /><br />I have to say that i pretty much hate this show, i don\\'t watch it but it\\'s like Code Lyoko, we\\'ve all watched at least one, i must say that this show is borderline racist, uninteresting and pointless.<br /><br />every episode ends with robotboy winning, except for one exception when robotboy basically let this overly geeky freakazoid fly away on a jetpack.<br /><br />The jokes are pretty crude too, i think it\\'s mostly people saying the word \"Suck\" or farting, i think the bullies of the show are quite shocking too.<br /><br />Isn\\'t there one that hides a bowling ball under his hate, and the other uses a chain, for god sake, what kind of school is he going to. Not to mention his older brother, who is borderline psychopathic and has no other character qualities.<br /><br />The whole show i feel is ripping off megas XLR and Fosters. Like you could say the trio of coop, jamie and Kiva, as well as Robotboy being similar to Megas where he beats everyone no matter what the odds and he\\'s free spirited despite being a robot.<br /><br />There is simply no appeal to this show, i\\'m surprised that it\\'s still running.']\n",
      "Sample 4:\n",
      "[\"This movie is so great. Its set back in probably the 40's and Meg Ryan's character struggles to be known as 'smart.' Plus Tim Robbins is so cute in this movie. And everything about it has a magical feeling towards it. Everytime I watch it I feel happy. It's definitely a girl movie, and I'm a girl, so I like it. I also love the music. The violin is awesome. but besides that I think it's a cute story and everyone should watch it.\", 'Since the Little Mermaid was one of my favorite Disney movies when I was little, I was curious about its sequel.<br /><br />The Little Mermaid(one) is a classic animated feature with top quality everything, a grand music score, and targets a general audience. In contrast, the Little Mermaid 2 is targeted primarily at young children, because it is spontaneous, reflects a child\\'s self perspective, the music is bouncier and less dramatic, and the ending feels like recess.<br /><br />The Little Mermaid 2 starts out when baby Melody is presented to Ariel\\'s side of the family. Abruptly without any visual cues to aid the drama, a giant tentacle grabs the baby. I laughed, wait a minute it\\'s not funny, the baby\\'s being attacked! Okay, I\\'ll stop laughing. Morgana\\'s crime in broad daylight and her spontaneity, takes away potential drama since it happened so quickly.<br /><br />Throughout the feature, Melody seems superhuman, which I defend is how most children envision themselves. This quality in Melody\\'s character is clearly brought out toward the end when she fights Morgana without an inch of fear on her face.<br /><br />Like the first movie, Melody has a lot of Ariel\\'s problems, except the reverse. Queen Ariel turns out to be like her father by restricting her from the ocean, whereas King Triton restricted Ariel from the surface. Ariel and Melody both rebel against their parent.<br /><br />The music is more emotionally moving in the first. This sequel has a bunch of songs, but not as much orchestral work went into it. It\\'s great for little ones, because it doesn\\'t take an orchestra to impress them.<br /><br />The ending in the first movie was strong and uplifting. The sequel ends with a bouncy song and everyone playing in the water. It\\'s definitely more targeted at kids, because instead of the ending being solemn and leaving you blown away, this ending leaves you thinking, \"It\\'s time for recess!\" Ultimately, this movie is fun for kids, so we should let them have fun.']\n",
      "Sample 5:\n",
      "[\"This was the first movie that Joan Crawford and Clark Gable made together and they would go on to make several more. Crawford stars a young rich girl who's father is wiped out in the stock market crash and there is nothing left for her and her brother. They have never worked before and the brother, William Bakewell, gets a job with Gable, who is a gangster and Bakewell thinks it will be an easy job but gets in over his head pretty quick. Crawford becomes a reporter at a newspaper but wants to work on the big stories but is given worthless stuff to work on. Their is a massacre in which several of Gable's men are killed and Crawford was a witness to the whole thing. It's a good movie but not one of their best.\", 'For those who like depressing films with sleazy characters and a sordid storyline, this one is for you! From the bleak New York City atmosphere, which comes across as an extremely grim and almost hopeless place, to two diverse lead characters devoid of much sense of morality, this movie is a real downer. <br /><br />Why it won the Academy Award was because it was so shocking at that time that Hollywood, brand new its freedom to show anything it wanted with all moral codes abandoned, wanted to celebrate that fact. Filmmakers then were like an immature six-year-old with an unlimited expense account at the local candy store. So, Hollywood gave theater viewers (for probably the first time) a dose of rape, prostitution, homosexuality, child nudity, homeless existence and other such wonderful sights and sounds only its twisted brain would think is appealing....and then awarded its work. <br /><br />It also hoped, I\\'m sure, to shock mainstream audiences. Well, it succeeded on that level. Audiences were stunned at what they say and heard and the Academy, proud of itself for being able to display filth and make money at the same time, couldn\\'t help but bestow honors upon this piece of gilded garbage.<br /><br />Forty years ago, as a very young man, I found this film fascinating, too. However, seeing it again in the 1990s left such a bad taste in my mouth I never watched to view it again. <br /><br />The acting was good, but so what? Acting is good in many films. Nobody ever said Dustin Hoffman and Jon Voight couldn\\'t act. Hoffman was particularly good in his younger days in playing wacked-out people. He was kind of like the Johnny Depp of his era, playing guys like \"Ratso Rizzo\" in this film and then going to be the \"Rain Man\" later on. Yes, \"Ratso\" is a character you\\'ll never forget, and \"Joe Buck\" (Voight) is one you want to forget, but the story is so sordid, it overwhelms the fine acting.<br /><br />This movie isn\\'t \"art,\" and it isn\\'t worthy of its many awards; it only pushed the envelope big-time in 1969 and that\\'s why it is so fondly remembered in the hearts of film people and critics. It\\'s two hours of profanity and ultra-sleazy, religious cheap shots, glorifying weirdos (Andy Warhol even gets in the act - no surprise), and generally despicable people.<br /><br />I did like the catchy song, \"Everybody\\'s Talking\\'\" that helped make Harry Nilsson famous, but even that was bogus because Fred Neil wrote the song and sang it better, before Nilsson did it....and few people have ever heard of Neil (which is their loss). And - as mentioned - the name \"Ratso Rizzo\" kind of stays with you!<br /><br />The film is a landmark, but in a negative sense, I fear: this marked it as \"official\" that Hollywood had gone down the toilet, and it has remained in the sewer ever since.']\n"
     ]
    }
   ],
   "source": [
    "for i, (data) in enumerate(movRevTrainDL):\n",
    "        print(f\"Sample {i+1}:\")\n",
    "        print(data)\n",
    "#         print(\"Label:\", label)\n",
    "        if i == 4:\n",
    "            break"
   ]
  },
  {
   "cell_type": "code",
   "execution_count": 37,
   "id": "82ff955c",
   "metadata": {},
   "outputs": [],
   "source": [
    "device = torch.device(\"cuda:0\" if torch.cuda.is_available() else \"cpu\")"
   ]
  },
  {
   "cell_type": "code",
   "execution_count": 38,
   "id": "0ca1b265",
   "metadata": {},
   "outputs": [
    {
     "data": {
      "text/plain": [
       "DataParallel(\n",
       "  (module): GPT2LMHeadModel(\n",
       "    (transformer): GPT2Model(\n",
       "      (wte): Embedding(50257, 768)\n",
       "      (wpe): Embedding(1024, 768)\n",
       "      (drop): Dropout(p=0.1, inplace=False)\n",
       "      (h): ModuleList(\n",
       "        (0-11): 12 x GPT2Block(\n",
       "          (ln_1): LayerNorm((768,), eps=1e-05, elementwise_affine=True)\n",
       "          (attn): GPT2Attention(\n",
       "            (c_attn): Conv1D()\n",
       "            (c_proj): Conv1D()\n",
       "            (attn_dropout): Dropout(p=0.1, inplace=False)\n",
       "            (resid_dropout): Dropout(p=0.1, inplace=False)\n",
       "          )\n",
       "          (ln_2): LayerNorm((768,), eps=1e-05, elementwise_affine=True)\n",
       "          (mlp): GPT2MLP(\n",
       "            (c_fc): Conv1D()\n",
       "            (c_proj): Conv1D()\n",
       "            (act): NewGELUActivation()\n",
       "            (dropout): Dropout(p=0.1, inplace=False)\n",
       "          )\n",
       "        )\n",
       "      )\n",
       "      (ln_f): LayerNorm((768,), eps=1e-05, elementwise_affine=True)\n",
       "    )\n",
       "    (lm_head): Linear(in_features=768, out_features=50257, bias=False)\n",
       "  )\n",
       ")"
      ]
     },
     "execution_count": 38,
     "metadata": {},
     "output_type": "execute_result"
    }
   ],
   "source": [
    "model.train()\n",
    "model = nn.DataParallel(model)\n",
    "model.to(device)"
   ]
  },
  {
   "cell_type": "code",
   "execution_count": 39,
   "id": "d52dac5d",
   "metadata": {},
   "outputs": [
    {
     "name": "stderr",
     "output_type": "stream",
     "text": [
      "  0%|                                                                               | 0/300000 [00:00<?, ?it/s]"
     ]
    }
   ],
   "source": [
    "optimizer = AdamW(model.parameters(),lr=2e-5)\n",
    "#Number of epochs\n",
    "NUM_EPOCHS = 30\n",
    "#Input Sequence\n",
    "MAX_LENGTH = 1024\n",
    "#Total LOOP\n",
    "NUM_TRAINING = num_epochs * len(movRevTrainDL)\n",
    "progress_bar = tqdm(range(num_training_steps))\n",
    "lr_scheduler = StepLR(\n",
    "    optimizer = optimizer,\n",
    "    step_size = 10,\n",
    "    gamma=0.1\n",
    ")\n",
    "\n",
    "\n",
    "    "
   ]
  },
  {
   "cell_type": "code",
   "execution_count": null,
   "id": "edefe873-c24b-450e-822d-fe4d8a1ddf38",
   "metadata": {},
   "outputs": [
    {
     "name": "stderr",
     "output_type": "stream",
     "text": [
      "huggingface/tokenizers: The current process just got forked, after parallelism has already been used. Disabling parallelism to avoid deadlocks...\n",
      "To disable this warning, you can either:\n",
      "\t- Avoid using `tokenizers` before the fork if possible\n",
      "\t- Explicitly set the environment variable TOKENIZERS_PARALLELISM=(true | false)\n",
      "huggingface/tokenizers: The current process just got forked, after parallelism has already been used. Disabling parallelism to avoid deadlocks...\n",
      "To disable this warning, you can either:\n",
      "\t- Avoid using `tokenizers` before the fork if possible\n",
      "\t- Explicitly set the environment variable TOKENIZERS_PARALLELISM=(true | false)\n",
      "huggingface/tokenizers: The current process just got forked, after parallelism has already been used. Disabling parallelism to avoid deadlocks...\n",
      "To disable this warning, you can either:\n",
      "\t- Avoid using `tokenizers` before the fork if possible\n",
      "\t- Explicitly set the environment variable TOKENIZERS_PARALLELISM=(true | false)\n",
      "huggingface/tokenizers: The current process just got forked, after parallelism has already been used. Disabling parallelism to avoid deadlocks...\n",
      "To disable this warning, you can either:\n",
      "\t- Avoid using `tokenizers` before the fork if possible\n",
      "\t- Explicitly set the environment variable TOKENIZERS_PARALLELISM=(true | false)\n",
      "huggingface/tokenizers: The current process just got forked, after parallelism has already been used. Disabling parallelism to avoid deadlocks...\n",
      "To disable this warning, you can either:\n",
      "\t- Avoid using `tokenizers` before the fork if possible\n",
      "\t- Explicitly set the environment variable TOKENIZERS_PARALLELISM=(true | false)\n",
      "huggingface/tokenizers: The current process just got forked, after parallelism has already been used. Disabling parallelism to avoid deadlocks...\n",
      "To disable this warning, you can either:\n",
      "\t- Avoid using `tokenizers` before the fork if possible\n",
      "\t- Explicitly set the environment variable TOKENIZERS_PARALLELISM=(true | false)\n",
      "huggingface/tokenizers: The current process just got forked, after parallelism has already been used. Disabling parallelism to avoid deadlocks...\n",
      "To disable this warning, you can either:\n",
      "\t- Avoid using `tokenizers` before the fork if possible\n",
      "\t- Explicitly set the environment variable TOKENIZERS_PARALLELISM=(true | false)\n",
      "huggingface/tokenizers: The current process just got forked, after parallelism has already been used. Disabling parallelism to avoid deadlocks...\n",
      "To disable this warning, you can either:\n",
      "\t- Avoid using `tokenizers` before the fork if possible\n",
      "\t- Explicitly set the environment variable TOKENIZERS_PARALLELISM=(true | false)\n",
      "  2%|█▌                                                               | 7179/300000 [21:48<16:43:07,  4.87it/s]"
     ]
    }
   ],
   "source": [
    "def train(model, num_epochs, DL, tokenizer,optimizer,scheduler, progress_bar,max_length):\n",
    "    for i in range(num_epochs):\n",
    "        for texts in DL:\n",
    "            batch_tokenized = tokenizer(texts, max_length = max_length, padding= \"max_length\", truncation = True, return_tensors='pt').to(device)\n",
    "            output = model(**batch_tokenized, labels = batch_tokenized['input_ids'])\n",
    "            loss = output.loss\n",
    "            loss.mean().backward()\n",
    "            optimizer.step()\n",
    "            lr_scheduler.step()\n",
    "            optimizer.zero_grad()\n",
    "            progress_bar.update(1)\n",
    "\n",
    "train(model, NUM_EPOCHS, movRevTrainDL, tokenizer,optimizer, lr_scheduler, progress_bar,MAX_LENGTH)"
   ]
  },
  {
   "cell_type": "code",
   "execution_count": null,
   "id": "9075cd3e",
   "metadata": {},
   "outputs": [],
   "source": [
    "\n",
    "\n",
    "\n",
    "        "
   ]
  },
  {
   "cell_type": "code",
   "execution_count": null,
   "id": "ce47b1c9-edf6-4ff4-9526-89d9852d290c",
   "metadata": {},
   "outputs": [],
   "source": []
  }
 ],
 "metadata": {
  "kernelspec": {
   "display_name": "GPT BERT Env",
   "language": "python",
   "name": "gpt_bert_env"
  },
  "language_info": {
   "codemirror_mode": {
    "name": "ipython",
    "version": 3
   },
   "file_extension": ".py",
   "mimetype": "text/x-python",
   "name": "python",
   "nbconvert_exporter": "python",
   "pygments_lexer": "ipython3",
   "version": "3.12.3"
  }
 },
 "nbformat": 4,
 "nbformat_minor": 5
}
